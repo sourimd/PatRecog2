{
 "metadata": {
  "name": "",
  "signature": "sha256:3e8cb69c8c6d920dfd2e04d42af510aef96f0e67f6cbacbbc5769b3b894d7838"
 },
 "nbformat": 3,
 "nbformat_minor": 0,
 "worksheets": [
  {
   "cells": [
    {
     "cell_type": "code",
     "collapsed": false,
     "input": [
      "import numpy as np\n",
      "from scipy import stats as s\n",
      "from scipy.stats import multivariate_normal as mn"
     ],
     "language": "python",
     "metadata": {},
     "outputs": [],
     "prompt_number": 1
    },
    {
     "cell_type": "code",
     "collapsed": false,
     "input": [
      "data = np.loadtxt('/home/user/PRTakeHome1/train_sp2015_v14')"
     ],
     "language": "python",
     "metadata": {},
     "outputs": [],
     "prompt_number": 2
    },
    {
     "cell_type": "code",
     "collapsed": false,
     "input": [
      "testData = np.loadtxt('/home/user/PRTakeHome1/test_sp2015_v14')"
     ],
     "language": "python",
     "metadata": {},
     "outputs": [],
     "prompt_number": 3
    },
    {
     "cell_type": "code",
     "collapsed": false,
     "input": [
      "classOneMeanVector = np.zeros((4,1))\n",
      "for j in range(0,4):\n",
      "    sum = 0\n",
      "    for i in range(0,5000):\n",
      "        sum = sum + data[i][j]\n",
      "    classOneMeanVector[j][0] = sum / 5000\n",
      "print classOneMeanVector.transpose()\n",
      "print classOneMeanVector.T\n",
      "classOneTrainingData = data[0:5000,:]\n",
      "summation = np.zeros((4,1))\n",
      "for i in range(0, 5000):\n",
      "    temp = classOneTrainingData[i] - classOneMeanVector.T[0]\n",
      "    summation = summation + np.outer(temp.transpose(), temp.transpose())\n",
      "estimatedCovMatrixClassOne = summation/4999\n",
      "print estimatedCovMatrixClassOne\n",
      "varOne = mn( mean = classOneMeanVector.T[0], cov = estimatedCovMatrixClassOne)"
     ],
     "language": "python",
     "metadata": {},
     "outputs": [
      {
       "output_type": "stream",
       "stream": "stdout",
       "text": [
        "[[  0.54656947  50.09870688 -24.68636838 -49.62397174]]\n",
        "[[  0.54656947  50.09870688 -24.68636838 -49.62397174]]\n",
        "[[  5.14382273e+03   6.10661252e+01   5.19156287e+01   1.38427767e+02]\n",
        " [  6.10661252e+01   2.43331397e+03   3.54336017e+01  -3.72154574e+01]\n",
        " [  5.19156287e+01   3.54336017e+01   6.23379573e+02   4.88330026e+00]\n",
        " [  1.38427767e+02  -3.72154574e+01   4.88330026e+00   2.59461622e+03]]"
       ]
      },
      {
       "output_type": "stream",
       "stream": "stdout",
       "text": [
        "\n"
       ]
      }
     ],
     "prompt_number": 4
    },
    {
     "cell_type": "code",
     "collapsed": false,
     "input": [
      "varOne.pdf( data[0:1,:][0] )"
     ],
     "language": "python",
     "metadata": {},
     "outputs": [
      {
       "metadata": {},
       "output_type": "pyout",
       "prompt_number": 24,
       "text": [
        "3.7749572916209453e-09"
       ]
      }
     ],
     "prompt_number": 24
    },
    {
     "cell_type": "code",
     "collapsed": false,
     "input": [
      "classTwoMeanVector = np.zeros((4,1))\n",
      "for j in range(0,4):\n",
      "    sum = 0\n",
      "    for i in range(5000,10000):\n",
      "        sum = sum + data[i][j]\n",
      "    classTwoMeanVector[j][0] = sum / 5000\n",
      "#print classOneMeanVector.transpose()\n",
      "#print classOneMeanVector.T\n",
      "classTwoTrainingData = data[5000:10000,:]\n",
      "summation = np.zeros((4,1))\n",
      "for i in range(0, 5000):\n",
      "    temp = classTwoTrainingData[i] - classTwoMeanVector.T[0]\n",
      "    summation = summation + np.outer(temp.transpose(), temp.transpose())\n",
      "estimatedCovMatrixClassTwo = summation/4999\n",
      "print estimatedCovMatrixClassTwo\n",
      "varTwo = mn( mean = classTwoMeanVector.T[0], cov = estimatedCovMatrixClassTwo)"
     ],
     "language": "python",
     "metadata": {},
     "outputs": [
      {
       "output_type": "stream",
       "stream": "stdout",
       "text": [
        "[[  2.45481250e+01  -3.88037864e+00  -5.17124219e-01  -1.52078216e+00]\n",
        " [ -3.88037864e+00   2.50730884e+03   2.12538596e+01   3.94724019e+01]\n",
        " [ -5.17124219e-01   2.12538596e+01   6.39553801e+02   3.03665035e+01]\n",
        " [ -1.52078216e+00   3.94724019e+01   3.03665035e+01   5.66340740e+03]]\n"
       ]
      }
     ],
     "prompt_number": 5
    },
    {
     "cell_type": "code",
     "collapsed": false,
     "input": [
      "varTwo.pdf( data[0:1,:][0] )"
     ],
     "language": "python",
     "metadata": {},
     "outputs": [
      {
       "metadata": {},
       "output_type": "pyout",
       "prompt_number": 25,
       "text": [
        "4.7442019669451753e-18"
       ]
      }
     ],
     "prompt_number": 25
    },
    {
     "cell_type": "code",
     "collapsed": false,
     "input": [
      "classThreeMeanVector = np.zeros((4,1))\n",
      "for j in range(0,4):\n",
      "    sum = 0\n",
      "    for i in range(10000,15000):\n",
      "        sum = sum + data[i][j]\n",
      "    classThreeMeanVector[j][0] = sum / 5000\n",
      "#print classOneMeanVector.transpose()\n",
      "#print classOneMeanVector.T\n",
      "classThreeTrainingData = data[10000:15000,:]\n",
      "summation = np.zeros((4,1))\n",
      "for i in range(0, 5000):\n",
      "    temp = classThreeTrainingData[i] - classThreeMeanVector.T[0]\n",
      "    summation = summation + np.outer(temp.transpose(), temp.transpose())\n",
      "estimatedCovMatrixClassThree = summation/4999\n",
      "print estimatedCovMatrixClassThree\n",
      "varThree = mn( mean = classThreeMeanVector.T[0], cov = estimatedCovMatrixClassThree)"
     ],
     "language": "python",
     "metadata": {},
     "outputs": [
      {
       "output_type": "stream",
       "stream": "stdout",
       "text": [
        "[[ 5786.38115924   -85.08626397    29.45591812    89.85211169]\n",
        " [  -85.08626397  2486.55244034   -62.91748891   -17.60702012]\n",
        " [   29.45591812   -62.91748891  5658.16962549   -56.56427407]\n",
        " [   89.85211169   -17.60702012   -56.56427407  2457.68384069]]\n"
       ]
      }
     ],
     "prompt_number": 6
    },
    {
     "cell_type": "code",
     "collapsed": false,
     "input": [
      "varThree.pdf( data[0:1,:][0] )"
     ],
     "language": "python",
     "metadata": {},
     "outputs": [
      {
       "metadata": {},
       "output_type": "pyout",
       "prompt_number": 27,
       "text": [
        "4.6755973239668657e-10"
       ]
      }
     ],
     "prompt_number": 27
    },
    {
     "cell_type": "code",
     "collapsed": false,
     "input": [
      "def findMax(a, b, c):\n",
      "    if a > b and a > c:\n",
      "        return \"1\"\n",
      "    elif b > a and b > c:\n",
      "        return \"2\"\n",
      "    else:\n",
      "        return \"3\"\n",
      "        "
     ],
     "language": "python",
     "metadata": {},
     "outputs": [],
     "prompt_number": 7
    },
    {
     "cell_type": "code",
     "collapsed": false,
     "input": [
      "def findMaxInReturn(a, b, c):\n",
      "    if a > b and a > c:\n",
      "        return 1\n",
      "    elif b > a and b > c:\n",
      "        return 2\n",
      "    else:\n",
      "        return 3"
     ],
     "language": "python",
     "metadata": {},
     "outputs": [],
     "prompt_number": 8
    },
    {
     "cell_type": "code",
     "collapsed": false,
     "input": [
      "f = open('/home/user/Desktop/TrainingRealityCheck','w')\n",
      "for i in range(0, 15000):\n",
      "    f.write( findMax(  varOne.pdf( data[i:i+1,:][0] ), varTwo.pdf( data[i:i+1,:][0] ), varThree.pdf( data[i:i+1,:][0] ) )+'\\n')\n",
      "f.close()"
     ],
     "language": "python",
     "metadata": {},
     "outputs": [],
     "prompt_number": 39
    },
    {
     "cell_type": "code",
     "collapsed": false,
     "input": [
      "w11 = 0\n",
      "w12 = 0\n",
      "w13 = 0\n",
      "for i in range(0, 5000):\n",
      "    a = findMaxInReturn(  varOne.pdf( data[i:i+1,:][0] ), varTwo.pdf( data[i:i+1,:][0] ), varThree.pdf( data[i:i+1,:][0] ) )\n",
      "    if a == 1:\n",
      "        w11 = w11 + 1\n",
      "    elif a == 2:\n",
      "        w12 = w12 + 1\n",
      "    else:\n",
      "        w13 = w13 + 1\n",
      "print w11\n",
      "print w12\n",
      "print w13"
     ],
     "language": "python",
     "metadata": {},
     "outputs": [
      {
       "output_type": "stream",
       "stream": "stdout",
       "text": [
        "3820\n",
        "479\n",
        "701\n"
       ]
      }
     ],
     "prompt_number": 14
    },
    {
     "cell_type": "code",
     "collapsed": false,
     "input": [
      "w21 = 0\n",
      "w22 = 0\n",
      "w23 = 0\n",
      "for i in range(5000, 10000):\n",
      "    a = findMaxInReturn(  varOne.pdf( data[i:i+1,:][0] ), varTwo.pdf( data[i:i+1,:][0] ), varThree.pdf( data[i:i+1,:][0] ) )\n",
      "    if a == 1:\n",
      "        w21 = w21 + 1\n",
      "    elif a == 2:\n",
      "        w22 = w22 + 1\n",
      "    else:\n",
      "        w23 = w23 + 1\n",
      "print w21\n",
      "print w22\n",
      "print w23"
     ],
     "language": "python",
     "metadata": {},
     "outputs": [
      {
       "output_type": "stream",
       "stream": "stdout",
       "text": [
        "115\n",
        "4817\n",
        "68\n"
       ]
      }
     ],
     "prompt_number": 15
    },
    {
     "cell_type": "code",
     "collapsed": false,
     "input": [
      "w31 = 0\n",
      "w32 = 0\n",
      "w33 = 0\n",
      "for i in range(10000, 15000):\n",
      "    a = findMaxInReturn(  varOne.pdf( data[i:i+1,:][0] ), varTwo.pdf( data[i:i+1,:][0] ), varThree.pdf( data[i:i+1,:][0] ) )\n",
      "    if a == 1:\n",
      "        w31 = w31 + 1\n",
      "    elif a == 2:\n",
      "        w32 = w32 + 1\n",
      "    else:\n",
      "        w33 = w33 + 1\n",
      "print w31\n",
      "print w32\n",
      "print w33"
     ],
     "language": "python",
     "metadata": {},
     "outputs": [
      {
       "output_type": "stream",
       "stream": "stdout",
       "text": [
        "1118\n",
        "181\n",
        "3701\n"
       ]
      }
     ],
     "prompt_number": 16
    },
    {
     "cell_type": "code",
     "collapsed": false,
     "input": [
      "f = open('/home/user/Desktop/sourimd-classified-q1pt1.txt','w')\n",
      "for i in range(0, 15000):\n",
      "    f.write( findMax(  varOne.pdf( testData[i:i+1,:][0] ), varTwo.pdf( testData[i:i+1,:][0] ), varThree.pdf( testData[i:i+1,:][0] ) )+'\\n')\n",
      "f.close()"
     ],
     "language": "python",
     "metadata": {},
     "outputs": [],
     "prompt_number": 8
    }
   ],
   "metadata": {}
  }
 ]
}